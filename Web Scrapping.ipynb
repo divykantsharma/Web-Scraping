{
 "cells": [
  {
   "cell_type": "markdown",
   "id": "c4b6350c",
   "metadata": {},
   "source": [
    "# WEB SCRAPPING "
   ]
  },
  {
   "cell_type": "markdown",
   "id": "014e77f6",
   "metadata": {},
   "source": [
    "## Step 0: Import the required libraries"
   ]
  },
  {
   "cell_type": "code",
   "execution_count": 1,
   "id": "30931c66",
   "metadata": {},
   "outputs": [],
   "source": [
    "import requests\n",
    "from bs4 import BeautifulSoup\n",
    "url=\"https://codewithharry.com\""
   ]
  },
  {
   "cell_type": "markdown",
   "id": "fc19b093",
   "metadata": {},
   "source": [
    "## Step 1: Get the HTML"
   ]
  },
  {
   "cell_type": "code",
   "execution_count": 2,
   "id": "87933669",
   "metadata": {},
   "outputs": [],
   "source": [
    "r=requests.get(url)\n",
    "htmlContent=r.content\n",
    "# print(htmlContent)"
   ]
  },
  {
   "cell_type": "markdown",
   "id": "63f92fe6",
   "metadata": {},
   "source": [
    "## Step 2: Parse the HTML (creating soup)"
   ]
  },
  {
   "cell_type": "code",
   "execution_count": 3,
   "id": "a1c9f8ae",
   "metadata": {},
   "outputs": [],
   "source": [
    "soup=BeautifulSoup(htmlContent, 'html.parser')\n",
    "# print(soup)\n",
    "# print(soup.prettify)"
   ]
  },
  {
   "cell_type": "markdown",
   "id": "33f6a176",
   "metadata": {},
   "source": [
    "## Step 3: HTML tree traversal"
   ]
  },
  {
   "cell_type": "code",
   "execution_count": 4,
   "id": "b823d25c",
   "metadata": {},
   "outputs": [
    {
     "name": "stdout",
     "output_type": "stream",
     "text": [
      "<class 'bs4.BeautifulSoup'>\n"
     ]
    },
    {
     "ename": "NameError",
     "evalue": "name 'title' is not defined",
     "output_type": "error",
     "traceback": [
      "\u001b[0;31m---------------------------------------------------------------------------\u001b[0m",
      "\u001b[0;31mNameError\u001b[0m                                 Traceback (most recent call last)",
      "Cell \u001b[0;32mIn[4], line 2\u001b[0m\n\u001b[1;32m      1\u001b[0m \u001b[38;5;28mprint\u001b[39m(\u001b[38;5;28mtype\u001b[39m(soup))   \u001b[38;5;66;03m#BeautifulSoup\u001b[39;00m\n\u001b[0;32m----> 2\u001b[0m \u001b[38;5;28mprint\u001b[39m(\u001b[38;5;28mtype\u001b[39m(title))   \u001b[38;5;66;03m#Tag\u001b[39;00m\n\u001b[1;32m      3\u001b[0m \u001b[38;5;28mprint\u001b[39m(\u001b[38;5;28mtype\u001b[39m(title\u001b[38;5;241m.\u001b[39mstring))\n",
      "\u001b[0;31mNameError\u001b[0m: name 'title' is not defined"
     ]
    }
   ],
   "source": [
    "print(type(soup))   #BeautifulSoup\n",
    "print(type(title))   #Tag\n",
    "print(type(title.string))   #Navigable String\n",
    "\n",
    "# Get the title of HTML page\n",
    "# title=soup.title\n",
    "# print(title)\n",
    "# print(type(title))\n",
    "# print(title.string)\n",
    "\n",
    "\n",
    "# Get all the paragraphs from the page\n",
    "# paras=soup.find_all('p')\n",
    "# print(paras)\n",
    "\n",
    "\n",
    "# Find the first para tag and it's classes\n",
    "# print(soup.find('p'))  #pehla paragraph mil jaayega \n",
    "# print(soup.find('p')['class'])    #ussi paragraph ki saari classes mil jaayegi\n",
    "\n",
    "\n",
    "# Find all the elements with class'text-base'\n",
    "# print(soup.find_all(\"p\",class_=\"text-base\"))\n",
    "\n",
    "\n",
    "# Get the text from tags/soup\n",
    "# print(soup.find('p').get_text())\n",
    "# print(soup.get_text())   # saare page ka content\n",
    "\n",
    "\n",
    "# Get all the anchor tags from the page\n",
    "# anchors=soup.find_all('a')\n",
    "# print(anchors)\n",
    "\n",
    "\n",
    "# Get all the links on the page\n",
    "# for link in anchors:\n",
    "#     print(link.get('href'))"
   ]
  }
 ],
 "metadata": {
  "kernelspec": {
   "display_name": "Python 3 (ipykernel)",
   "language": "python",
   "name": "python3"
  },
  "language_info": {
   "codemirror_mode": {
    "name": "ipython",
    "version": 3
   },
   "file_extension": ".py",
   "mimetype": "text/x-python",
   "name": "python",
   "nbconvert_exporter": "python",
   "pygments_lexer": "ipython3",
   "version": "3.11.4"
  }
 },
 "nbformat": 4,
 "nbformat_minor": 5
}
